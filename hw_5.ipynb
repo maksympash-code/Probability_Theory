{
  "cells": [
    {
      "cell_type": "markdown",
      "metadata": {
        "id": "q974EZ657M75"
      },
      "source": [
        "# Домашня робота №5"
      ]
    },
    {
      "cell_type": "markdown",
      "metadata": {
        "id": "pLXmTQFy7M78"
      },
      "source": [
        "# Математичне сподівання та дисперсія"
      ]
    },
    {
      "cell_type": "markdown",
      "metadata": {
        "id": "_8gs3J3S7M79"
      },
      "source": [
        "## 1 Порівняння"
      ]
    },
    {
      "cell_type": "markdown",
      "metadata": {
        "id": "eNxE8ht07M7_"
      },
      "source": [
        "1. Реалізуйте функцію для підрахунку математичного сподівання випадкової величини $\\xi$, заданої в класі **scipy.stats**, усіма можливими способами:\n",
        "   - за допомогою методу **mean**;\n",
        "   - за допомогою методу **expect**;\n",
        "   - за допомогою методу **stats**.\n",
        "\n",
        "2. Реалізуйте функцію для підрахунку дисперсії випадкової величини $\\xi$, заданої в класі **scipy.stats**, усіма можливими способами:\n",
        "   - за допомогою методу **var**;\n",
        "   - за допомогою методу **expect** та формули для дисперсії\n",
        "$\\mathsf{D}(\\xi) = \\mathsf{E} \\left[ \\left( \\xi - \\mathsf{E}[\\xi] \\right)^2 \\right]$;\n",
        "   - за допомогою методу **expect** та формули для дисперсії\n",
        "$\\mathsf{D}(\\xi) = \\mathsf{E}[\\xi^2] - \\left( \\mathsf{E}[\\xi] \\right)^2$;\n",
        "   - за допомогою методу **stats**.\n",
        "\n",
        "3. Порахуйте математичне сподівання та дисперсію, використовуючи функції з пунктів **1., 2.**, і порівняйте (виведіть різницю) їх із теоретичними значеннями, використовуючи формули з лекцій, для таких випадкових величин(оберіть 2 на вибір):\n",
        "   - $\\xi \\sim Binom(10, 0.4)$ (біноміальний розподіл);\n",
        "   - $\\xi \\sim Geom(0.5)$ (геометричний розподіл);\n",
        "   - $\\xi \\sim Pois(0.6)$ (розподіл Пуассона);\n",
        "   - $\\xi \\sim NBinom(5, 0.4)$ (від'ємний біноміальний розподіл);\n",
        "   - $\\xi \\sim HGeom(20, 7, 12)$ (гіпергеометричний розподіл);\n",
        "   - $\\xi \\sim Unif(0, 1)$ (рівномірний розподіл);\n",
        "   - $\\xi \\sim Exp(0.5)$ (експоненційний (показниковий) розподіл);\n",
        "   - $\\xi \\sim N(0, 1)$ (нормальний розподіл);\n",
        "   - $\\xi \\sim \\Gamma(2)$ (гамма розподіл);\n",
        "   - $\\xi \\sim LogNorm(0, 1)$ (логнормальний розподіл);\n",
        "   - $\\xi \\sim B(2, 1.1)$ (бета розподіл)."
      ]
    },
    {
      "cell_type": "code",
      "execution_count": 8,
      "metadata": {
        "collapsed": true,
        "id": "abNr1TcH7M8A",
        "outputId": "2fa3565b-c3b3-4c99-9c4b-086a5bdae8cd",
        "colab": {
          "base_uri": "https://localhost:8080/"
        }
      },
      "outputs": [
        {
          "output_type": "stream",
          "name": "stdout",
          "text": [
            "      Розподіл  mean()  expect()  stats(m)   Δ_μ_expect  Δ_μ_stats  var()  expect формула 1  expect формула 2  stats(v)  Δ_σ²_expect1  Δ_σ²_expect2  Δ_σ²_stats\n",
            "Binom(10, 0.4)     4.0       4.0       4.0 1.776357e-15        0.0    2.4               2.4               2.4       2.4  1.776357e-15  9.769963e-15         0.0\n",
            "      Exp(0.5)     2.0       2.0       2.0 0.000000e+00        0.0    4.0               4.0               4.0       4.0  2.664535e-15  3.552714e-15         0.0\n"
          ]
        }
      ],
      "source": [
        "from scipy.stats import binom, expon\n",
        "import numpy as np\n",
        "import pandas as pd\n",
        "\n",
        "def compute_expectations(rv):\n",
        "    mean_method = rv.mean()\n",
        "    mean_expect = rv.expect()\n",
        "    mean_stats = rv.stats(moments='m')\n",
        "    return mean_method, mean_expect, mean_stats\n",
        "\n",
        "def compute_variances(rv):\n",
        "    var_method = rv.var()\n",
        "    mean = rv.expect()\n",
        "    var_expect_formula1 = rv.expect(lambda x: (x - mean) ** 2)\n",
        "    var_expect_formula2 = rv.expect(lambda x: x**2) - mean ** 2\n",
        "    var_stats = rv.stats(moments='v')\n",
        "    return var_method, var_expect_formula1, var_expect_formula2, var_stats\n",
        "\n",
        "# Вибрані розподіли: Binom(10, 0.4) і Exp(0.5)\n",
        "distributions = {\n",
        "    \"Binom(10, 0.4)\": binom(n=10, p=0.4),\n",
        "    \"Exp(0.5)\": expon(scale=1/0.5)\n",
        "}\n",
        "\n",
        "results = []\n",
        "\n",
        "for name, dist in distributions.items():\n",
        "    mean_vals = compute_expectations(dist)\n",
        "    var_vals = compute_variances(dist)\n",
        "\n",
        "    theo_mean = mean_vals[0]\n",
        "    theo_var = var_vals[0]\n",
        "\n",
        "    results.append({\n",
        "        'Розподіл': name,\n",
        "        'mean()': mean_vals[0],\n",
        "        'expect()': mean_vals[1],\n",
        "        'stats(m)': mean_vals[2],\n",
        "        'Δ_μ_expect': abs(mean_vals[1] - theo_mean),\n",
        "        'Δ_μ_stats': abs(mean_vals[2] - theo_mean),\n",
        "        'var()': var_vals[0],\n",
        "        'expect формула 1': var_vals[1],\n",
        "        'expect формула 2': var_vals[2],\n",
        "        'stats(v)': var_vals[3],\n",
        "        'Δ_σ²_expect1': abs(var_vals[1] - theo_var),\n",
        "        'Δ_σ²_expect2': abs(var_vals[2] - theo_var),\n",
        "        'Δ_σ²_stats': abs(var_vals[3] - theo_var),\n",
        "    })\n",
        "\n",
        "df = pd.DataFrame(results)\n",
        "print(df.to_string(index=False))\n"
      ]
    },
    {
      "cell_type": "markdown",
      "metadata": {
        "id": "m_VxST4Z7M8P"
      },
      "source": [
        "## 2 Унікальні цифри"
      ]
    },
    {
      "cell_type": "markdown",
      "metadata": {
        "id": "UXxueiRo7M8Q"
      },
      "source": [
        "Нехай випадковим чином вибирають послідовно $n$ цифр (цифри можуть повторюватися, вибірка з поверненням).\n",
        "Нехай тоді випадкова величина $\\xi$ - це кількість унікальних цифр в отриманому наборі.\n",
        "\n",
        "Напишіть функцію для обрахунку математичного сподівання та дисперсії випадкової величини $\\xi$ в залежності від кількості $n$ цифр у наборі методом повного перебору.\n",
        "Виведіть результат для $n = 1, 2, 3, 4, 5, 6, 7.$"
      ]
    },
    {
      "cell_type": "code",
      "execution_count": 6,
      "metadata": {
        "collapsed": true,
        "id": "m922JuJk7M8Q",
        "outputId": "de8aeb7c-3497-4edf-e5e2-5e717b7c4739",
        "colab": {
          "base_uri": "https://localhost:8080/"
        }
      },
      "outputs": [
        {
          "output_type": "stream",
          "name": "stdout",
          "text": [
            " n     E[ξ]     D[ξ]\n",
            " 1 1.000000 0.000000\n",
            " 2 1.900000 0.090000\n",
            " 3 2.710000 0.225900\n",
            " 4 3.439000 0.378279\n",
            " 5 4.095100 0.528256\n",
            " 6 4.685590 0.664416\n",
            " 7 5.217031 0.780545\n"
          ]
        }
      ],
      "source": [
        "import itertools\n",
        "import numpy as np\n",
        "import pandas as pd\n",
        "from collections import Counter\n",
        "\n",
        "def unique_digit_stats_full(n):\n",
        "    digits = list(range(10))\n",
        "    all_sequences = itertools.product(digits, repeat=n)\n",
        "    count_dict = Counter()\n",
        "\n",
        "    for seq in all_sequences:\n",
        "        unique_count = len(set(seq))\n",
        "        count_dict[unique_count] += 1\n",
        "\n",
        "    total = 10**n\n",
        "    values = np.array(list(count_dict.keys()))\n",
        "    counts = np.array(list(count_dict.values()))\n",
        "    probs = counts / total\n",
        "\n",
        "    E_xi = np.sum(values * probs)\n",
        "    D_xi = np.sum((values - E_xi) ** 2 * probs)\n",
        "\n",
        "    return E_xi, D_xi\n",
        "\n",
        "results_full = []\n",
        "for n in range(1, 8):\n",
        "    E, D = unique_digit_stats_full(n)\n",
        "    results_full.append({'n': n, 'E[ξ]': E, 'D[ξ]': D})\n",
        "\n",
        "df_full = pd.DataFrame(results_full)\n",
        "print(df_full.to_string(index=False))\n"
      ]
    },
    {
      "cell_type": "markdown",
      "metadata": {
        "id": "yNYille67M8V"
      },
      "source": [
        "## 3 Парадокс днів народження"
      ]
    },
    {
      "cell_type": "markdown",
      "metadata": {
        "id": "DRtqj9Lt7M8W"
      },
      "source": [
        "Нехай маємо $n$ людей.\n",
        "Їх дні народження припадають на один з 12 місяців.\n",
        "Нехай тоді випадкова величина $\\xi$ - це кількість співпадінь місяців народжень серед цих $n$ людей.\n",
        "\n",
        "Напишіть функцію для обрахунку математичного сподівання та дисперсії випадкової величини $\\xi$ в залежності від кількості $n$ людей методом повного перебору.\n",
        "Виведіть результат для $n = 1, 2, 3, 4, 5, 6.$\n",
        "\n",
        "Для якого $n$ виконується $\\mathsf{E}\\left[ \\xi \\right] \\geq 1$?\n",
        "\n",
        "**Зауваження.** Кількість співпадінь означає кількість однакових пар. Наприклад,\n",
        "- у наборі $\\{ 1, 1, 2, 3 \\}$ є одна пара;\n",
        "- у наборі $\\{ 1, 1, 1, 3 \\}$ є три пари;\n",
        "- у наборі $\\{ 1, 1, 1, 1 \\}$ є шість пар."
      ]
    },
    {
      "cell_type": "code",
      "execution_count": 7,
      "metadata": {
        "collapsed": true,
        "id": "RZRYIjCX7M8W",
        "outputId": "b522c2d8-b1c1-4666-d3a2-4e38177d5251",
        "colab": {
          "base_uri": "https://localhost:8080/"
        }
      },
      "outputs": [
        {
          "output_type": "stream",
          "name": "stdout",
          "text": [
            " n     E[ξ]     D[ξ]\n",
            " 1 0.000000 0.000000\n",
            " 2 0.083333 0.076389\n",
            " 3 0.250000 0.229167\n",
            " 4 0.500000 0.458333\n",
            " 5 0.833333 0.763889\n",
            " 6 1.250000 1.145833\n",
            "\n",
            "Найменше n, де E[ξ] ≥ 1: n = 6\n"
          ]
        }
      ],
      "source": [
        "import itertools\n",
        "from collections import Counter\n",
        "import pandas as pd\n",
        "import numpy as np\n",
        "\n",
        "def birthday_stats(n, months=12):\n",
        "    all_birthdays = itertools.product(range(1, months + 1), repeat=n)\n",
        "    total_sequences = 0\n",
        "    total_pairs = []\n",
        "\n",
        "    for bdays in all_birthdays:\n",
        "        counter = Counter(bdays)\n",
        "        pairs = sum(v * (v - 1) // 2 for v in counter.values())\n",
        "        total_pairs.append(pairs)\n",
        "        total_sequences += 1\n",
        "\n",
        "    total_pairs = np.array(total_pairs)\n",
        "    E_xi = np.mean(total_pairs)\n",
        "    D_xi = np.var(total_pairs)\n",
        "\n",
        "    return E_xi, D_xi\n",
        "\n",
        "results = []\n",
        "for n in range(1, 7):\n",
        "    E, D = birthday_stats(n)\n",
        "    results.append({'n': n, 'E[ξ]': E, 'D[ξ]': D})\n",
        "\n",
        "df_birthday = pd.DataFrame(results)\n",
        "print(df_birthday.to_string(index=False))\n",
        "\n",
        "n_ge_1 = next((row['n'] for row in results if row['E[ξ]'] >= 1), None)\n",
        "print(f\"\\nНайменше n, де E[ξ] ≥ 1: n = {n_ge_1}\")\n"
      ]
    },
    {
      "cell_type": "code",
      "source": [],
      "metadata": {
        "id": "E7kk9IRA4XjM"
      },
      "execution_count": null,
      "outputs": []
    }
  ],
  "metadata": {
    "kernelspec": {
      "display_name": "Python 3",
      "language": "python",
      "name": "python3"
    },
    "language_info": {
      "codemirror_mode": {
        "name": "ipython",
        "version": 3
      },
      "file_extension": ".py",
      "mimetype": "text/x-python",
      "name": "python",
      "nbconvert_exporter": "python",
      "pygments_lexer": "ipython3",
      "version": "3.6.1"
    },
    "colab": {
      "provenance": []
    }
  },
  "nbformat": 4,
  "nbformat_minor": 0
}